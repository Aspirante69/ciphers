{
 "cells": [
  {
   "cell_type": "markdown",
   "metadata": {},
   "source": [
    "# Criptografia: Cifra de César em Python"
   ]
  },
  {
   "cell_type": "markdown",
   "metadata": {},
   "source": [
    "Quase todos já devem ter ouvido falar de criptografia. Se não ouviram, com certeza já utilizaram algum sistema ou serviço que se utilize de criptografia.\n",
    "\n",
    "Sites de banco, por exemplo, utilizam um protocolo (HTTPS) que utiliza criptografia para garantir a segurança do seu acesso à sua conta; outro exemplo pode ser o acesso ao seu webmail.\n",
    "\n",
    "Mas o que realmente é criptografia? Criptografia, junção de duas palavras gregas κρυπτός (kriptós – secreto, escondido) e γράφειν (gráfein – escrita), é, resumindo, o uso de técnicas para transformar texto ou dados legíveis em informação ilegível, que não possa ser compreendida. O procedimento básico pode ser mostrado na figura abaixo:"
   ]
  },
  {
   "cell_type": "markdown",
   "metadata": {},
   "source": [
    "<a title=\"By Dev-NJITWILL (Own work) [Public domain], via Wikimedia Commons\" href=\"https://commons.wikimedia.org/wiki/File%3ACrypto.png\"><img width=\"512\" alt=\"Crypto\" src=\"https://upload.wikimedia.org/wikipedia/commons/f/f8/Crypto.png\"/></a>"
   ]
  },
  {
   "cell_type": "markdown",
   "metadata": {},
   "source": [
    "O algoritmo desenvolvido que realiza as funções de cifrar ou decifrar recebe o nome de cifra. Toda cifra, para realizar a sua função necessita de uma chave. A chave é uma informação que controla o resultado do algoritmo.\n",
    "\n",
    "**CIFRA DE CÉSAR**\n",
    "\n",
    "Uma das cifras mais conhecidas é a cifra de César, que foi utilizada por Júlio César para se comunicar com suas tropas durante as guerras que travava[1].\n",
    "\n",
    "Esta cifra é bastante simples, consiste na substituição de uma letra do alfabeto por seu correspondente três casas adiante, ou seja, a letra A é substituída pela letra D, a letra B pela letra E e assim por diante (figura 2). Neste caso, o algoritmo da cifra é a troca de uma letra por outra em uma determinada posição. E a chave, neste caso, é o número 3."
   ]
  },
  {
   "cell_type": "markdown",
   "metadata": {},
   "source": [
    "<a title=\"By Cepheus (Own work) [Public domain], via Wikimedia Commons\" href=\"https://commons.wikimedia.org/wiki/File%3ACaesar3.svg\"><img width=\"512\" alt=\"Caesar3\" src=\"https://upload.wikimedia.org/wikipedia/commons/thumb/2/2b/Caesar3.svg/512px-Caesar3.svg.png\"/></a>"
   ]
  },
  {
   "cell_type": "code",
   "execution_count": 3,
   "metadata": {
    "collapsed": false,
    "scrolled": true
   },
   "outputs": [
    {
     "name": "stdout",
     "output_type": "stream",
     "text": [
      "Texto cifrado: WHVWHGHWHAWRFRPDFLIUDGHFHVDU\n",
      "Text decifrado: TESTEDETEXTOCOMACIFRADECESAR\n"
     ]
    }
   ],
   "source": [
    "import sys\n",
    "sys.path.insert(0, '..')\n",
    "\n",
    "from ciphers import Caesar\n",
    "\n",
    "cifra = Caesar()\n",
    "\n",
    "cifrado = cifra.encrypt('teste de texto com a cifra de Cesar')\n",
    "print('Texto cifrado: ' + cifrado)\n",
    "print('Text decifrado: ' + cifra.decrypt(cifrado))"
   ]
  },
  {
   "cell_type": "markdown",
   "metadata": {},
   "source": [
    "Os métodos da classe recebem outro parâmetro além do texto a ser cifrado ou decifrado. Recebem o valor da chave, que caso não seja passado nenhum valor, será utilizado o valor 3, como no exemplo acima. Abaixo, um exemplo de uma chave diferente de 3:"
   ]
  },
  {
   "cell_type": "code",
   "execution_count": 8,
   "metadata": {
    "collapsed": false,
    "scrolled": true
   },
   "outputs": [
    {
     "name": "stdout",
     "output_type": "stream",
     "text": [
      "Texto cifrado: OZNOZYZOZSOJXJHVXDAMVYZXZNVM\n",
      "Text decifrado: TESTEDETEXTOCOMACIFRADECESAR\n"
     ]
    }
   ],
   "source": [
    "cifrado = cifra.encrypt('teste de texto com a cifra de Cesar', 21)\n",
    "print('Texto cifrado: ' + cifrado)\n",
    "print('Text decifrado: ' + cifra.decrypt(cifrado, 21))"
   ]
  },
  {
   "cell_type": "code",
   "execution_count": null,
   "metadata": {
    "collapsed": true
   },
   "outputs": [],
   "source": []
  }
 ],
 "metadata": {
  "kernelspec": {
   "display_name": "Python 3",
   "language": "python",
   "name": "python3"
  },
  "language_info": {
   "codemirror_mode": {
    "name": "ipython",
    "version": 3
   },
   "file_extension": ".py",
   "mimetype": "text/x-python",
   "name": "python",
   "nbconvert_exporter": "python",
   "pygments_lexer": "ipython3",
   "version": "3.5.1"
  }
 },
 "nbformat": 4,
 "nbformat_minor": 0
}
