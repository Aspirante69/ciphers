{
 "cells": [
  {
   "cell_type": "code",
   "execution_count": 10,
   "metadata": {
    "collapsed": false
   },
   "outputs": [],
   "source": [
    "import sys\n",
    "sys.path.insert(0, '..')\n",
    "from ciphers import ADFGX"
   ]
  },
  {
   "cell_type": "code",
   "execution_count": 12,
   "metadata": {
    "collapsed": false
   },
   "outputs": [
    {
     "name": "stdout",
     "output_type": "stream",
     "text": [
      "Digite um alfabeto de 25 letras: ABCDEFGHIKLMNOPQRSTUVWXYZ\n",
      "Texto a ser cifrado: Fabio MEdeiros\n",
      "Senha: chave\n",
      "Texto cifrado -> AGAXFDDFGGFAGAGGADDADAFXDG\n",
      "Texto plano -> FABIOMEDEIROS\n"
     ]
    }
   ],
   "source": [
    "cifra = ADFGX()\n",
    "alfabeto = input('Digite um alfabeto de 25 letras: ')\n",
    "cifra.create_square(alfabeto)\n",
    "texto = input('Texto a ser cifrado: ')\n",
    "senha = input('Senha: ')\n",
    "cifrado = cifra.encrypt(texto, senha)\n",
    "print('Texto cifrado -> ' + cifrado)\n",
    "print('Texto plano -> ' + cifra.decrypt(cifrado, senha))"
   ]
  },
  {
   "cell_type": "code",
   "execution_count": null,
   "metadata": {
    "collapsed": true
   },
   "outputs": [],
   "source": []
  }
 ],
 "metadata": {
  "kernelspec": {
   "display_name": "Python 3",
   "language": "python",
   "name": "python3"
  },
  "language_info": {
   "codemirror_mode": {
    "name": "ipython",
    "version": 3
   },
   "file_extension": ".py",
   "mimetype": "text/x-python",
   "name": "python",
   "nbconvert_exporter": "python",
   "pygments_lexer": "ipython3",
   "version": "3.5.1"
  }
 },
 "nbformat": 4,
 "nbformat_minor": 0
}
